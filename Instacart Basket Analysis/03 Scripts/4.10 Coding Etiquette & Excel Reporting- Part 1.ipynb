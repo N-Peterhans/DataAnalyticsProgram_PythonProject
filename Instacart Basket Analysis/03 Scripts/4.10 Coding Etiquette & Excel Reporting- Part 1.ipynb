{
 "cells": [
  {
   "cell_type": "markdown",
   "id": "caf52821",
   "metadata": {},
   "source": [
    "### Contents\n",
    "    01. Importing Libraries and Data \n",
    "    02. Data checks and preparation\n",
    "    03. PII issues\n",
    "    04. Create flags for regions\n",
    "    05. Spending and ordering habits across regions¶\n",
    "    06. Creating dataframe to show aggregate values for regions\n",
    "    07. Excluding low frequency customers\n",
    "    08. Export"
   ]
  },
  {
   "cell_type": "markdown",
   "id": "1ff59ba1",
   "metadata": {},
   "source": [
    "# Import Libraries "
   ]
  },
  {
   "cell_type": "code",
   "execution_count": 1,
   "id": "96a19e06",
   "metadata": {},
   "outputs": [],
   "source": [
    "import pandas as pd\n",
    "import numpy as np\n",
    "import os\n",
    "import matplotlib.pyplot as plt\n",
    "import seaborn as sns\n",
    "import scipy"
   ]
  },
  {
   "cell_type": "markdown",
   "id": "31705092",
   "metadata": {},
   "source": [
    "# Import Data "
   ]
  },
  {
   "cell_type": "code",
   "execution_count": 2,
   "id": "c18f2cb1",
   "metadata": {},
   "outputs": [],
   "source": [
    "# set path\n",
    "path=r'C:\\Users\\niels\\Documents\\Master Folder - Instacart Basket Analysis 09.10'"
   ]
  },
  {
   "cell_type": "code",
   "execution_count": 3,
   "id": "5af19ae4",
   "metadata": {},
   "outputs": [],
   "source": [
    "# Import latest version of merged data \n",
    "df = pd.read_pickle(os.path.join(path, 'Data', 'Prepared Data', 'full_instacart_data.pkl'))"
   ]
  },
  {
   "cell_type": "markdown",
   "id": "bf49f8a2",
   "metadata": {},
   "source": [
    "# Data Checks "
   ]
  },
  {
   "cell_type": "code",
   "execution_count": 4,
   "id": "ea8d8ee9",
   "metadata": {},
   "outputs": [
    {
     "data": {
      "text/html": [
       "<div>\n",
       "<style scoped>\n",
       "    .dataframe tbody tr th:only-of-type {\n",
       "        vertical-align: middle;\n",
       "    }\n",
       "\n",
       "    .dataframe tbody tr th {\n",
       "        vertical-align: top;\n",
       "    }\n",
       "\n",
       "    .dataframe thead th {\n",
       "        text-align: right;\n",
       "    }\n",
       "</style>\n",
       "<table border=\"1\" class=\"dataframe\">\n",
       "  <thead>\n",
       "    <tr style=\"text-align: right;\">\n",
       "      <th></th>\n",
       "      <th>Order_id</th>\n",
       "      <th>Customer_id</th>\n",
       "      <th>Order_number</th>\n",
       "      <th>Orders_day_of_week</th>\n",
       "      <th>Order_time_of_day</th>\n",
       "      <th>Days_since_prior_order</th>\n",
       "      <th>Product_id</th>\n",
       "      <th>Add_to_cart_order</th>\n",
       "      <th>Reordered</th>\n",
       "      <th>Product_name</th>\n",
       "      <th>...</th>\n",
       "      <th>First_name</th>\n",
       "      <th>Surname</th>\n",
       "      <th>Gender</th>\n",
       "      <th>State</th>\n",
       "      <th>Age</th>\n",
       "      <th>Date_joined</th>\n",
       "      <th>#_of_dependants</th>\n",
       "      <th>Marital_status</th>\n",
       "      <th>Income</th>\n",
       "      <th>_merge</th>\n",
       "    </tr>\n",
       "  </thead>\n",
       "  <tbody>\n",
       "    <tr>\n",
       "      <th>0</th>\n",
       "      <td>2539329</td>\n",
       "      <td>1</td>\n",
       "      <td>1</td>\n",
       "      <td>2</td>\n",
       "      <td>8</td>\n",
       "      <td>NaN</td>\n",
       "      <td>196</td>\n",
       "      <td>1</td>\n",
       "      <td>0</td>\n",
       "      <td>Soda</td>\n",
       "      <td>...</td>\n",
       "      <td>Linda</td>\n",
       "      <td>Nguyen</td>\n",
       "      <td>Female</td>\n",
       "      <td>Alabama</td>\n",
       "      <td>31</td>\n",
       "      <td>2/17/2019</td>\n",
       "      <td>3</td>\n",
       "      <td>married</td>\n",
       "      <td>40423</td>\n",
       "      <td>both</td>\n",
       "    </tr>\n",
       "    <tr>\n",
       "      <th>1</th>\n",
       "      <td>2398795</td>\n",
       "      <td>1</td>\n",
       "      <td>2</td>\n",
       "      <td>3</td>\n",
       "      <td>7</td>\n",
       "      <td>15.0</td>\n",
       "      <td>196</td>\n",
       "      <td>1</td>\n",
       "      <td>1</td>\n",
       "      <td>Soda</td>\n",
       "      <td>...</td>\n",
       "      <td>Linda</td>\n",
       "      <td>Nguyen</td>\n",
       "      <td>Female</td>\n",
       "      <td>Alabama</td>\n",
       "      <td>31</td>\n",
       "      <td>2/17/2019</td>\n",
       "      <td>3</td>\n",
       "      <td>married</td>\n",
       "      <td>40423</td>\n",
       "      <td>both</td>\n",
       "    </tr>\n",
       "    <tr>\n",
       "      <th>2</th>\n",
       "      <td>473747</td>\n",
       "      <td>1</td>\n",
       "      <td>3</td>\n",
       "      <td>3</td>\n",
       "      <td>12</td>\n",
       "      <td>21.0</td>\n",
       "      <td>196</td>\n",
       "      <td>1</td>\n",
       "      <td>1</td>\n",
       "      <td>Soda</td>\n",
       "      <td>...</td>\n",
       "      <td>Linda</td>\n",
       "      <td>Nguyen</td>\n",
       "      <td>Female</td>\n",
       "      <td>Alabama</td>\n",
       "      <td>31</td>\n",
       "      <td>2/17/2019</td>\n",
       "      <td>3</td>\n",
       "      <td>married</td>\n",
       "      <td>40423</td>\n",
       "      <td>both</td>\n",
       "    </tr>\n",
       "    <tr>\n",
       "      <th>3</th>\n",
       "      <td>2254736</td>\n",
       "      <td>1</td>\n",
       "      <td>4</td>\n",
       "      <td>4</td>\n",
       "      <td>7</td>\n",
       "      <td>29.0</td>\n",
       "      <td>196</td>\n",
       "      <td>1</td>\n",
       "      <td>1</td>\n",
       "      <td>Soda</td>\n",
       "      <td>...</td>\n",
       "      <td>Linda</td>\n",
       "      <td>Nguyen</td>\n",
       "      <td>Female</td>\n",
       "      <td>Alabama</td>\n",
       "      <td>31</td>\n",
       "      <td>2/17/2019</td>\n",
       "      <td>3</td>\n",
       "      <td>married</td>\n",
       "      <td>40423</td>\n",
       "      <td>both</td>\n",
       "    </tr>\n",
       "    <tr>\n",
       "      <th>4</th>\n",
       "      <td>431534</td>\n",
       "      <td>1</td>\n",
       "      <td>5</td>\n",
       "      <td>4</td>\n",
       "      <td>15</td>\n",
       "      <td>28.0</td>\n",
       "      <td>196</td>\n",
       "      <td>1</td>\n",
       "      <td>1</td>\n",
       "      <td>Soda</td>\n",
       "      <td>...</td>\n",
       "      <td>Linda</td>\n",
       "      <td>Nguyen</td>\n",
       "      <td>Female</td>\n",
       "      <td>Alabama</td>\n",
       "      <td>31</td>\n",
       "      <td>2/17/2019</td>\n",
       "      <td>3</td>\n",
       "      <td>married</td>\n",
       "      <td>40423</td>\n",
       "      <td>both</td>\n",
       "    </tr>\n",
       "  </tbody>\n",
       "</table>\n",
       "<p>5 rows × 33 columns</p>\n",
       "</div>"
      ],
      "text/plain": [
       "   Order_id Customer_id  Order_number  Orders_day_of_week  Order_time_of_day  \\\n",
       "0   2539329           1             1                   2                  8   \n",
       "1   2398795           1             2                   3                  7   \n",
       "2    473747           1             3                   3                 12   \n",
       "3   2254736           1             4                   4                  7   \n",
       "4    431534           1             5                   4                 15   \n",
       "\n",
       "   Days_since_prior_order  Product_id  Add_to_cart_order  Reordered  \\\n",
       "0                     NaN         196                  1          0   \n",
       "1                    15.0         196                  1          1   \n",
       "2                    21.0         196                  1          1   \n",
       "3                    29.0         196                  1          1   \n",
       "4                    28.0         196                  1          1   \n",
       "\n",
       "  Product_name  ...  First_name  Surname  Gender    State Age Date_joined  \\\n",
       "0         Soda  ...       Linda   Nguyen  Female  Alabama  31   2/17/2019   \n",
       "1         Soda  ...       Linda   Nguyen  Female  Alabama  31   2/17/2019   \n",
       "2         Soda  ...       Linda   Nguyen  Female  Alabama  31   2/17/2019   \n",
       "3         Soda  ...       Linda   Nguyen  Female  Alabama  31   2/17/2019   \n",
       "4         Soda  ...       Linda   Nguyen  Female  Alabama  31   2/17/2019   \n",
       "\n",
       "  #_of_dependants  Marital_status Income  _merge  \n",
       "0               3         married  40423    both  \n",
       "1               3         married  40423    both  \n",
       "2               3         married  40423    both  \n",
       "3               3         married  40423    both  \n",
       "4               3         married  40423    both  \n",
       "\n",
       "[5 rows x 33 columns]"
      ]
     },
     "execution_count": 4,
     "metadata": {},
     "output_type": "execute_result"
    }
   ],
   "source": [
    "# Check df \n",
    "df.head()"
   ]
  },
  {
   "cell_type": "code",
   "execution_count": 5,
   "id": "9ed156e2",
   "metadata": {},
   "outputs": [
    {
     "data": {
      "text/plain": [
       "(32404859, 33)"
      ]
     },
     "execution_count": 5,
     "metadata": {},
     "output_type": "execute_result"
    }
   ],
   "source": [
    "df.shape"
   ]
  },
  {
   "cell_type": "code",
   "execution_count": 6,
   "id": "c1e70f4c",
   "metadata": {
    "scrolled": true
   },
   "outputs": [
    {
     "name": "stdout",
     "output_type": "stream",
     "text": [
      "<class 'pandas.core.frame.DataFrame'>\n",
      "Int64Index: 32404859 entries, 0 to 32404858\n",
      "Data columns (total 33 columns):\n",
      " #   Column                  Dtype   \n",
      "---  ------                  -----   \n",
      " 0   Order_id                int32   \n",
      " 1   Customer_id             object  \n",
      " 2   Order_number            int8    \n",
      " 3   Orders_day_of_week      int8    \n",
      " 4   Order_time_of_day       int8    \n",
      " 5   Days_since_prior_order  float16 \n",
      " 6   Product_id              int32   \n",
      " 7   Add_to_cart_order       int32   \n",
      " 8   Reordered               int8    \n",
      " 9   Product_name            object  \n",
      " 10  aisle_id                int64   \n",
      " 11  department_id           int64   \n",
      " 12  prices                  float64 \n",
      " 13  _Merge                  category\n",
      " 14  Busiest_day             object  \n",
      " 15  Busiest_2_days          object  \n",
      " 16  Busiest_period_of_day   object  \n",
      " 17  Max_order               int8    \n",
      " 18  Loyalty_flag            object  \n",
      " 19  Mean_order_price        float64 \n",
      " 20  Spending_flag           object  \n",
      " 21  Order_frequency         float16 \n",
      " 22  Frequency_flag          object  \n",
      " 23  First_name              object  \n",
      " 24  Surname                 object  \n",
      " 25  Gender                  object  \n",
      " 26  State                   object  \n",
      " 27  Age                     int8    \n",
      " 28  Date_joined             object  \n",
      " 29  #_of_dependants         int8    \n",
      " 30  Marital_status          object  \n",
      " 31  Income                  int32   \n",
      " 32  _merge                  category\n",
      "dtypes: category(2), float16(2), float64(2), int32(4), int64(2), int8(7), object(14)\n",
      "memory usage: 5.5+ GB\n"
     ]
    }
   ],
   "source": [
    "df.info()"
   ]
  },
  {
   "cell_type": "markdown",
   "id": "44145021",
   "metadata": {},
   "source": [
    "# Consider Security Implications "
   ]
  },
  {
   "cell_type": "markdown",
   "id": "e55f3edc",
   "metadata": {},
   "source": [
    "For security purposes, there is no need to have customer names. Customer_id should be sufficient. "
   ]
  },
  {
   "cell_type": "code",
   "execution_count": 7,
   "id": "693d7b32",
   "metadata": {},
   "outputs": [],
   "source": [
    "# Drop the first and last name columns. The columns _merge and aisle_id can also be dropped while at it. \n",
    "df2 = df.drop(columns=['First_name', 'Surname', '_Merge', 'aisle_id','_merge']) "
   ]
  },
  {
   "cell_type": "code",
   "execution_count": 8,
   "id": "c11b2799",
   "metadata": {
    "scrolled": true
   },
   "outputs": [
    {
     "data": {
      "text/html": [
       "<div>\n",
       "<style scoped>\n",
       "    .dataframe tbody tr th:only-of-type {\n",
       "        vertical-align: middle;\n",
       "    }\n",
       "\n",
       "    .dataframe tbody tr th {\n",
       "        vertical-align: top;\n",
       "    }\n",
       "\n",
       "    .dataframe thead th {\n",
       "        text-align: right;\n",
       "    }\n",
       "</style>\n",
       "<table border=\"1\" class=\"dataframe\">\n",
       "  <thead>\n",
       "    <tr style=\"text-align: right;\">\n",
       "      <th></th>\n",
       "      <th>Order_id</th>\n",
       "      <th>Customer_id</th>\n",
       "      <th>Order_number</th>\n",
       "      <th>Orders_day_of_week</th>\n",
       "      <th>Order_time_of_day</th>\n",
       "      <th>Days_since_prior_order</th>\n",
       "      <th>Product_id</th>\n",
       "      <th>Add_to_cart_order</th>\n",
       "      <th>Reordered</th>\n",
       "      <th>Product_name</th>\n",
       "      <th>...</th>\n",
       "      <th>Spending_flag</th>\n",
       "      <th>Order_frequency</th>\n",
       "      <th>Frequency_flag</th>\n",
       "      <th>Gender</th>\n",
       "      <th>State</th>\n",
       "      <th>Age</th>\n",
       "      <th>Date_joined</th>\n",
       "      <th>#_of_dependants</th>\n",
       "      <th>Marital_status</th>\n",
       "      <th>Income</th>\n",
       "    </tr>\n",
       "  </thead>\n",
       "  <tbody>\n",
       "    <tr>\n",
       "      <th>0</th>\n",
       "      <td>2539329</td>\n",
       "      <td>1</td>\n",
       "      <td>1</td>\n",
       "      <td>2</td>\n",
       "      <td>8</td>\n",
       "      <td>NaN</td>\n",
       "      <td>196</td>\n",
       "      <td>1</td>\n",
       "      <td>0</td>\n",
       "      <td>Soda</td>\n",
       "      <td>...</td>\n",
       "      <td>Low spender</td>\n",
       "      <td>20.5</td>\n",
       "      <td>Non-frequent customer</td>\n",
       "      <td>Female</td>\n",
       "      <td>Alabama</td>\n",
       "      <td>31</td>\n",
       "      <td>2/17/2019</td>\n",
       "      <td>3</td>\n",
       "      <td>married</td>\n",
       "      <td>40423</td>\n",
       "    </tr>\n",
       "    <tr>\n",
       "      <th>1</th>\n",
       "      <td>2398795</td>\n",
       "      <td>1</td>\n",
       "      <td>2</td>\n",
       "      <td>3</td>\n",
       "      <td>7</td>\n",
       "      <td>15.0</td>\n",
       "      <td>196</td>\n",
       "      <td>1</td>\n",
       "      <td>1</td>\n",
       "      <td>Soda</td>\n",
       "      <td>...</td>\n",
       "      <td>Low spender</td>\n",
       "      <td>20.5</td>\n",
       "      <td>Non-frequent customer</td>\n",
       "      <td>Female</td>\n",
       "      <td>Alabama</td>\n",
       "      <td>31</td>\n",
       "      <td>2/17/2019</td>\n",
       "      <td>3</td>\n",
       "      <td>married</td>\n",
       "      <td>40423</td>\n",
       "    </tr>\n",
       "    <tr>\n",
       "      <th>2</th>\n",
       "      <td>473747</td>\n",
       "      <td>1</td>\n",
       "      <td>3</td>\n",
       "      <td>3</td>\n",
       "      <td>12</td>\n",
       "      <td>21.0</td>\n",
       "      <td>196</td>\n",
       "      <td>1</td>\n",
       "      <td>1</td>\n",
       "      <td>Soda</td>\n",
       "      <td>...</td>\n",
       "      <td>Low spender</td>\n",
       "      <td>20.5</td>\n",
       "      <td>Non-frequent customer</td>\n",
       "      <td>Female</td>\n",
       "      <td>Alabama</td>\n",
       "      <td>31</td>\n",
       "      <td>2/17/2019</td>\n",
       "      <td>3</td>\n",
       "      <td>married</td>\n",
       "      <td>40423</td>\n",
       "    </tr>\n",
       "    <tr>\n",
       "      <th>3</th>\n",
       "      <td>2254736</td>\n",
       "      <td>1</td>\n",
       "      <td>4</td>\n",
       "      <td>4</td>\n",
       "      <td>7</td>\n",
       "      <td>29.0</td>\n",
       "      <td>196</td>\n",
       "      <td>1</td>\n",
       "      <td>1</td>\n",
       "      <td>Soda</td>\n",
       "      <td>...</td>\n",
       "      <td>Low spender</td>\n",
       "      <td>20.5</td>\n",
       "      <td>Non-frequent customer</td>\n",
       "      <td>Female</td>\n",
       "      <td>Alabama</td>\n",
       "      <td>31</td>\n",
       "      <td>2/17/2019</td>\n",
       "      <td>3</td>\n",
       "      <td>married</td>\n",
       "      <td>40423</td>\n",
       "    </tr>\n",
       "    <tr>\n",
       "      <th>4</th>\n",
       "      <td>431534</td>\n",
       "      <td>1</td>\n",
       "      <td>5</td>\n",
       "      <td>4</td>\n",
       "      <td>15</td>\n",
       "      <td>28.0</td>\n",
       "      <td>196</td>\n",
       "      <td>1</td>\n",
       "      <td>1</td>\n",
       "      <td>Soda</td>\n",
       "      <td>...</td>\n",
       "      <td>Low spender</td>\n",
       "      <td>20.5</td>\n",
       "      <td>Non-frequent customer</td>\n",
       "      <td>Female</td>\n",
       "      <td>Alabama</td>\n",
       "      <td>31</td>\n",
       "      <td>2/17/2019</td>\n",
       "      <td>3</td>\n",
       "      <td>married</td>\n",
       "      <td>40423</td>\n",
       "    </tr>\n",
       "  </tbody>\n",
       "</table>\n",
       "<p>5 rows × 28 columns</p>\n",
       "</div>"
      ],
      "text/plain": [
       "   Order_id Customer_id  Order_number  Orders_day_of_week  Order_time_of_day  \\\n",
       "0   2539329           1             1                   2                  8   \n",
       "1   2398795           1             2                   3                  7   \n",
       "2    473747           1             3                   3                 12   \n",
       "3   2254736           1             4                   4                  7   \n",
       "4    431534           1             5                   4                 15   \n",
       "\n",
       "   Days_since_prior_order  Product_id  Add_to_cart_order  Reordered  \\\n",
       "0                     NaN         196                  1          0   \n",
       "1                    15.0         196                  1          1   \n",
       "2                    21.0         196                  1          1   \n",
       "3                    29.0         196                  1          1   \n",
       "4                    28.0         196                  1          1   \n",
       "\n",
       "  Product_name  ...  Spending_flag  Order_frequency         Frequency_flag  \\\n",
       "0         Soda  ...    Low spender             20.5  Non-frequent customer   \n",
       "1         Soda  ...    Low spender             20.5  Non-frequent customer   \n",
       "2         Soda  ...    Low spender             20.5  Non-frequent customer   \n",
       "3         Soda  ...    Low spender             20.5  Non-frequent customer   \n",
       "4         Soda  ...    Low spender             20.5  Non-frequent customer   \n",
       "\n",
       "   Gender    State  Age Date_joined  #_of_dependants Marital_status  Income  \n",
       "0  Female  Alabama   31   2/17/2019                3        married   40423  \n",
       "1  Female  Alabama   31   2/17/2019                3        married   40423  \n",
       "2  Female  Alabama   31   2/17/2019                3        married   40423  \n",
       "3  Female  Alabama   31   2/17/2019                3        married   40423  \n",
       "4  Female  Alabama   31   2/17/2019                3        married   40423  \n",
       "\n",
       "[5 rows x 28 columns]"
      ]
     },
     "execution_count": 8,
     "metadata": {},
     "output_type": "execute_result"
    }
   ],
   "source": [
    "# Check to makes sure successfully dropped \n",
    "df2.head()"
   ]
  },
  {
   "cell_type": "markdown",
   "id": "2618fa0f",
   "metadata": {},
   "source": [
    "# Create flags for regions"
   ]
  },
  {
   "cell_type": "code",
   "execution_count": 9,
   "id": "04ce5607",
   "metadata": {},
   "outputs": [],
   "source": [
    "# create series for each region with all appropriate states\n",
    "Northeast = ['Maine', 'New Hampshire', 'Vermont', 'Massachusetts', 'Rhode Island', \n",
    "             'Connecticut', 'New York', 'Pennsylvania', 'New Jersey']\n",
    "Midwest = ['Wisconsin', 'Michigan', 'Illinois', 'Indiana', 'Ohio',\n",
    "          'North Dakota', 'South Dakota', 'Nebraska', 'Kansas',\n",
    "          'Minnesota', 'Iowa', 'Missouri']\n",
    "South = ['Delaware', 'Maryland', 'District of Columbia', 'Virginia', 'West Virginia',\n",
    "         'North Carolina', 'South Carolina', 'Georgia', 'Florida', 'Kentucky', 'Tennessee',\n",
    "         'Mississippi', 'Alabama', 'Oklahoma', 'Texas', 'Arkansas', 'Louisiana']\n",
    "West = ['Idaho', 'Montana', 'Wyoming', 'Nevada', 'Utah', 'Colorado', 'Arizona',\n",
    "        'New Mexico', 'Alaska', 'Washington', 'Oregon', 'California', 'Hawaii']"
   ]
  },
  {
   "cell_type": "code",
   "execution_count": 10,
   "id": "2de3e9e9",
   "metadata": {},
   "outputs": [],
   "source": [
    "# create a new region column identifying \n",
    "df2.loc[df2['State'].isin(Northeast), 'Region'] = 'Northeast'"
   ]
  },
  {
   "cell_type": "code",
   "execution_count": 11,
   "id": "71327a56",
   "metadata": {},
   "outputs": [],
   "source": [
    "df2.loc[df2['State'].isin(Midwest), 'Region'] = 'Midwest'"
   ]
  },
  {
   "cell_type": "code",
   "execution_count": 12,
   "id": "d682e054",
   "metadata": {},
   "outputs": [],
   "source": [
    "df2.loc[df2['State'].isin(South), 'Region'] = 'South'"
   ]
  },
  {
   "cell_type": "code",
   "execution_count": 13,
   "id": "aea70a1c",
   "metadata": {},
   "outputs": [],
   "source": [
    "df2.loc[df2['State'].isin(West), 'Region'] = 'West'"
   ]
  },
  {
   "cell_type": "code",
   "execution_count": 14,
   "id": "bd9ebff1",
   "metadata": {},
   "outputs": [
    {
     "data": {
      "text/plain": [
       "South        10791885\n",
       "West          8292913\n",
       "Midwest       7597325\n",
       "Northeast     5722736\n",
       "Name: Region, dtype: int64"
      ]
     },
     "execution_count": 14,
     "metadata": {},
     "output_type": "execute_result"
    }
   ],
   "source": [
    "# make sure all records were allocated to a region\n",
    "df2['Region'].value_counts(dropna=False)"
   ]
  },
  {
   "cell_type": "code",
   "execution_count": 15,
   "id": "e208b5ec",
   "metadata": {},
   "outputs": [
    {
     "data": {
      "text/plain": [
       "32404859"
      ]
     },
     "execution_count": 15,
     "metadata": {},
     "output_type": "execute_result"
    }
   ],
   "source": [
    "10791885+8292913+7597325+5722736"
   ]
  },
  {
   "cell_type": "markdown",
   "id": "f457e365",
   "metadata": {},
   "source": [
    "All records were successfully allocated to a region. "
   ]
  },
  {
   "cell_type": "markdown",
   "id": "dff7c20e",
   "metadata": {},
   "source": [
    "# Spending and ordering habits across regions"
   ]
  },
  {
   "cell_type": "code",
   "execution_count": 16,
   "id": "b021c2f2",
   "metadata": {
    "scrolled": true
   },
   "outputs": [
    {
     "data": {
      "text/html": [
       "<div>\n",
       "<style scoped>\n",
       "    .dataframe tbody tr th:only-of-type {\n",
       "        vertical-align: middle;\n",
       "    }\n",
       "\n",
       "    .dataframe tbody tr th {\n",
       "        vertical-align: top;\n",
       "    }\n",
       "\n",
       "    .dataframe thead th {\n",
       "        text-align: right;\n",
       "    }\n",
       "</style>\n",
       "<table border=\"1\" class=\"dataframe\">\n",
       "  <thead>\n",
       "    <tr style=\"text-align: right;\">\n",
       "      <th></th>\n",
       "      <th>Customer_id</th>\n",
       "    </tr>\n",
       "    <tr>\n",
       "      <th>Region</th>\n",
       "      <th></th>\n",
       "    </tr>\n",
       "  </thead>\n",
       "  <tbody>\n",
       "    <tr>\n",
       "      <th>South</th>\n",
       "      <td>68737</td>\n",
       "    </tr>\n",
       "    <tr>\n",
       "      <th>West</th>\n",
       "      <td>52565</td>\n",
       "    </tr>\n",
       "    <tr>\n",
       "      <th>Midwest</th>\n",
       "      <td>48519</td>\n",
       "    </tr>\n",
       "    <tr>\n",
       "      <th>Northeast</th>\n",
       "      <td>36388</td>\n",
       "    </tr>\n",
       "  </tbody>\n",
       "</table>\n",
       "</div>"
      ],
      "text/plain": [
       "           Customer_id\n",
       "Region                \n",
       "South            68737\n",
       "West             52565\n",
       "Midwest          48519\n",
       "Northeast        36388"
      ]
     },
     "execution_count": 16,
     "metadata": {},
     "output_type": "execute_result"
    }
   ],
   "source": [
    "# Group by region and aggregate by customer id in order to see which region has more customers\n",
    "df2[['Region', 'Customer_id']].groupby('Region').agg({'Customer_id': pd.Series.nunique,}).sort_values(by='Customer_id',\n",
    "                                                                                              ascending=False)"
   ]
  },
  {
   "cell_type": "markdown",
   "id": "8f400fd4",
   "metadata": {},
   "source": [
    "The South has the most customers and the Northeast has the least."
   ]
  },
  {
   "cell_type": "code",
   "execution_count": 17,
   "id": "29fec498",
   "metadata": {
    "scrolled": true
   },
   "outputs": [
    {
     "data": {
      "text/html": [
       "<div>\n",
       "<style scoped>\n",
       "    .dataframe tbody tr th:only-of-type {\n",
       "        vertical-align: middle;\n",
       "    }\n",
       "\n",
       "    .dataframe tbody tr th {\n",
       "        vertical-align: top;\n",
       "    }\n",
       "\n",
       "    .dataframe thead th {\n",
       "        text-align: right;\n",
       "    }\n",
       "</style>\n",
       "<table border=\"1\" class=\"dataframe\">\n",
       "  <thead>\n",
       "    <tr style=\"text-align: right;\">\n",
       "      <th></th>\n",
       "      <th>State</th>\n",
       "    </tr>\n",
       "    <tr>\n",
       "      <th>Region</th>\n",
       "      <th></th>\n",
       "    </tr>\n",
       "  </thead>\n",
       "  <tbody>\n",
       "    <tr>\n",
       "      <th>South</th>\n",
       "      <td>17</td>\n",
       "    </tr>\n",
       "    <tr>\n",
       "      <th>West</th>\n",
       "      <td>13</td>\n",
       "    </tr>\n",
       "    <tr>\n",
       "      <th>Midwest</th>\n",
       "      <td>12</td>\n",
       "    </tr>\n",
       "    <tr>\n",
       "      <th>Northeast</th>\n",
       "      <td>9</td>\n",
       "    </tr>\n",
       "  </tbody>\n",
       "</table>\n",
       "</div>"
      ],
      "text/plain": [
       "           State\n",
       "Region          \n",
       "South         17\n",
       "West          13\n",
       "Midwest       12\n",
       "Northeast      9"
      ]
     },
     "execution_count": 17,
     "metadata": {},
     "output_type": "execute_result"
    }
   ],
   "source": [
    "# Important to note that the South also has the most states alloted to it's region \n",
    "df2[['Region', 'State']].groupby('Region').agg({'State': pd.Series.nunique,}).sort_values(by='State',\n",
    "                                                                                          ascending=False)"
   ]
  },
  {
   "cell_type": "markdown",
   "id": "6aa6882f",
   "metadata": {},
   "source": [
    "The South also has the most states and the Northeast has the least."
   ]
  },
  {
   "cell_type": "code",
   "execution_count": 18,
   "id": "d8917544",
   "metadata": {
    "scrolled": false
   },
   "outputs": [
    {
     "data": {
      "text/html": [
       "<div>\n",
       "<style scoped>\n",
       "    .dataframe tbody tr th:only-of-type {\n",
       "        vertical-align: middle;\n",
       "    }\n",
       "\n",
       "    .dataframe tbody tr th {\n",
       "        vertical-align: top;\n",
       "    }\n",
       "\n",
       "    .dataframe thead th {\n",
       "        text-align: right;\n",
       "    }\n",
       "</style>\n",
       "<table border=\"1\" class=\"dataframe\">\n",
       "  <thead>\n",
       "    <tr style=\"text-align: right;\">\n",
       "      <th></th>\n",
       "      <th>Product_id</th>\n",
       "    </tr>\n",
       "    <tr>\n",
       "      <th>Region</th>\n",
       "      <th></th>\n",
       "    </tr>\n",
       "  </thead>\n",
       "  <tbody>\n",
       "    <tr>\n",
       "      <th>South</th>\n",
       "      <td>10791885</td>\n",
       "    </tr>\n",
       "    <tr>\n",
       "      <th>West</th>\n",
       "      <td>8292913</td>\n",
       "    </tr>\n",
       "    <tr>\n",
       "      <th>Midwest</th>\n",
       "      <td>7597325</td>\n",
       "    </tr>\n",
       "    <tr>\n",
       "      <th>Northeast</th>\n",
       "      <td>5722736</td>\n",
       "    </tr>\n",
       "  </tbody>\n",
       "</table>\n",
       "</div>"
      ],
      "text/plain": [
       "           Product_id\n",
       "Region               \n",
       "South        10791885\n",
       "West          8292913\n",
       "Midwest       7597325\n",
       "Northeast     5722736"
      ]
     },
     "execution_count": 18,
     "metadata": {},
     "output_type": "execute_result"
    }
   ],
   "source": [
    "# Check to see which region has sold the most products \n",
    "df2[['Region', 'Product_id']].groupby(['Region']).agg('count').sort_values(by='Product_id', ascending=False)"
   ]
  },
  {
   "cell_type": "markdown",
   "id": "e91c648a",
   "metadata": {},
   "source": [
    "Again we see that the South has sold the most products and the Northeast has sold the least. "
   ]
  },
  {
   "cell_type": "code",
   "execution_count": 19,
   "id": "35969c2d",
   "metadata": {
    "scrolled": true
   },
   "outputs": [
    {
     "data": {
      "text/html": [
       "<div>\n",
       "<style scoped>\n",
       "    .dataframe tbody tr th:only-of-type {\n",
       "        vertical-align: middle;\n",
       "    }\n",
       "\n",
       "    .dataframe tbody tr th {\n",
       "        vertical-align: top;\n",
       "    }\n",
       "\n",
       "    .dataframe thead th {\n",
       "        text-align: right;\n",
       "    }\n",
       "</style>\n",
       "<table border=\"1\" class=\"dataframe\">\n",
       "  <thead>\n",
       "    <tr style=\"text-align: right;\">\n",
       "      <th></th>\n",
       "      <th>prices</th>\n",
       "    </tr>\n",
       "    <tr>\n",
       "      <th>Region</th>\n",
       "      <th></th>\n",
       "    </tr>\n",
       "  </thead>\n",
       "  <tbody>\n",
       "    <tr>\n",
       "      <th>South</th>\n",
       "      <td>131613265.4</td>\n",
       "    </tr>\n",
       "    <tr>\n",
       "      <th>Midwest</th>\n",
       "      <td>96603658.7</td>\n",
       "    </tr>\n",
       "    <tr>\n",
       "      <th>West</th>\n",
       "      <td>93874398.7</td>\n",
       "    </tr>\n",
       "    <tr>\n",
       "      <th>Northeast</th>\n",
       "      <td>66126199.8</td>\n",
       "    </tr>\n",
       "  </tbody>\n",
       "</table>\n",
       "</div>"
      ],
      "text/plain": [
       "                prices\n",
       "Region                \n",
       "South      131613265.4\n",
       "Midwest     96603658.7\n",
       "West        93874398.7\n",
       "Northeast   66126199.8"
      ]
     },
     "execution_count": 19,
     "metadata": {},
     "output_type": "execute_result"
    }
   ],
   "source": [
    "# checking what region customers spend the most in sales\n",
    "df2[['prices', 'Region']].groupby('Region').agg('sum').sort_values(by ='prices', ascending=False)"
   ]
  },
  {
   "cell_type": "markdown",
   "id": "beca26b4",
   "metadata": {},
   "source": [
    "Southern customers were the top total spenders and Northeastern customers were the least."
   ]
  },
  {
   "cell_type": "code",
   "execution_count": 20,
   "id": "4e5ff4ae",
   "metadata": {
    "scrolled": true
   },
   "outputs": [
    {
     "data": {
      "text/html": [
       "<div>\n",
       "<style scoped>\n",
       "    .dataframe tbody tr th:only-of-type {\n",
       "        vertical-align: middle;\n",
       "    }\n",
       "\n",
       "    .dataframe tbody tr th {\n",
       "        vertical-align: top;\n",
       "    }\n",
       "\n",
       "    .dataframe thead th {\n",
       "        text-align: right;\n",
       "    }\n",
       "</style>\n",
       "<table border=\"1\" class=\"dataframe\">\n",
       "  <thead>\n",
       "    <tr style=\"text-align: right;\">\n",
       "      <th>Spending_flag</th>\n",
       "      <th>High spender</th>\n",
       "      <th>Low spender</th>\n",
       "    </tr>\n",
       "    <tr>\n",
       "      <th>Region</th>\n",
       "      <th></th>\n",
       "      <th></th>\n",
       "    </tr>\n",
       "  </thead>\n",
       "  <tbody>\n",
       "    <tr>\n",
       "      <th>Midwest</th>\n",
       "      <td>155975</td>\n",
       "      <td>7441350</td>\n",
       "    </tr>\n",
       "    <tr>\n",
       "      <th>Northeast</th>\n",
       "      <td>108225</td>\n",
       "      <td>5614511</td>\n",
       "    </tr>\n",
       "    <tr>\n",
       "      <th>South</th>\n",
       "      <td>209691</td>\n",
       "      <td>10582194</td>\n",
       "    </tr>\n",
       "    <tr>\n",
       "      <th>West</th>\n",
       "      <td>160354</td>\n",
       "      <td>8132559</td>\n",
       "    </tr>\n",
       "  </tbody>\n",
       "</table>\n",
       "</div>"
      ],
      "text/plain": [
       "Spending_flag  High spender  Low spender\n",
       "Region                                  \n",
       "Midwest              155975      7441350\n",
       "Northeast            108225      5614511\n",
       "South                209691     10582194\n",
       "West                 160354      8132559"
      ]
     },
     "execution_count": 20,
     "metadata": {},
     "output_type": "execute_result"
    }
   ],
   "source": [
    "# Use crosstab to see the frequency of low and high spending customers in each region \n",
    "cross = pd.crosstab(df2['Region'], df2['Spending_flag'], dropna=False).sort_index()\n",
    "cross"
   ]
  },
  {
   "cell_type": "markdown",
   "id": "a309d38a",
   "metadata": {},
   "source": [
    "The South has the highest frequency of High spending customers. The Northeast has the least. "
   ]
  },
  {
   "cell_type": "code",
   "execution_count": 21,
   "id": "85518fa2",
   "metadata": {
    "scrolled": true
   },
   "outputs": [
    {
     "data": {
      "text/html": [
       "<div>\n",
       "<style scoped>\n",
       "    .dataframe tbody tr th:only-of-type {\n",
       "        vertical-align: middle;\n",
       "    }\n",
       "\n",
       "    .dataframe tbody tr th {\n",
       "        vertical-align: top;\n",
       "    }\n",
       "\n",
       "    .dataframe thead th {\n",
       "        text-align: right;\n",
       "    }\n",
       "</style>\n",
       "<table border=\"1\" class=\"dataframe\">\n",
       "  <thead>\n",
       "    <tr style=\"text-align: right;\">\n",
       "      <th>Frequency_flag</th>\n",
       "      <th>Frequent customer</th>\n",
       "      <th>Non-frequent customer</th>\n",
       "      <th>Regular customer</th>\n",
       "    </tr>\n",
       "    <tr>\n",
       "      <th>Region</th>\n",
       "      <th></th>\n",
       "      <th></th>\n",
       "      <th></th>\n",
       "    </tr>\n",
       "  </thead>\n",
       "  <tbody>\n",
       "    <tr>\n",
       "      <th>Midwest</th>\n",
       "      <td>5017709</td>\n",
       "      <td>863419</td>\n",
       "      <td>1716197</td>\n",
       "    </tr>\n",
       "    <tr>\n",
       "      <th>Northeast</th>\n",
       "      <td>3804566</td>\n",
       "      <td>630182</td>\n",
       "      <td>1287988</td>\n",
       "    </tr>\n",
       "    <tr>\n",
       "      <th>South</th>\n",
       "      <td>7192372</td>\n",
       "      <td>1215088</td>\n",
       "      <td>2384420</td>\n",
       "    </tr>\n",
       "    <tr>\n",
       "      <th>West</th>\n",
       "      <td>5545206</td>\n",
       "      <td>927748</td>\n",
       "      <td>1819959</td>\n",
       "    </tr>\n",
       "  </tbody>\n",
       "</table>\n",
       "</div>"
      ],
      "text/plain": [
       "Frequency_flag  Frequent customer  Non-frequent customer  Regular customer\n",
       "Region                                                                    \n",
       "Midwest                   5017709                 863419           1716197\n",
       "Northeast                 3804566                 630182           1287988\n",
       "South                     7192372                1215088           2384420\n",
       "West                      5545206                 927748           1819959"
      ]
     },
     "execution_count": 21,
     "metadata": {},
     "output_type": "execute_result"
    }
   ],
   "source": [
    "# Use crosstab to see the customer frequency per region\n",
    "cross2 = pd.crosstab(df2['Region'], df2['Frequency_flag'], dropna=False).sort_index()\n",
    "cross2"
   ]
  },
  {
   "cell_type": "markdown",
   "id": "40ef9f7b",
   "metadata": {},
   "source": [
    "The South also has the most \"frequent customers\". The Northeast has the least \"frequent customers\". \n"
   ]
  },
  {
   "cell_type": "code",
   "execution_count": 22,
   "id": "05628d32",
   "metadata": {
    "scrolled": true
   },
   "outputs": [
    {
     "data": {
      "text/html": [
       "<div>\n",
       "<style scoped>\n",
       "    .dataframe tbody tr th:only-of-type {\n",
       "        vertical-align: middle;\n",
       "    }\n",
       "\n",
       "    .dataframe tbody tr th {\n",
       "        vertical-align: top;\n",
       "    }\n",
       "\n",
       "    .dataframe thead th {\n",
       "        text-align: right;\n",
       "    }\n",
       "</style>\n",
       "<table border=\"1\" class=\"dataframe\">\n",
       "  <thead>\n",
       "    <tr style=\"text-align: right;\">\n",
       "      <th>Loyalty_flag</th>\n",
       "      <th>Loyal customer</th>\n",
       "      <th>New customer</th>\n",
       "      <th>Regular customer</th>\n",
       "    </tr>\n",
       "    <tr>\n",
       "      <th>Region</th>\n",
       "      <th></th>\n",
       "      <th></th>\n",
       "      <th></th>\n",
       "    </tr>\n",
       "  </thead>\n",
       "  <tbody>\n",
       "    <tr>\n",
       "      <th>Midwest</th>\n",
       "      <td>2373774</td>\n",
       "      <td>1472573</td>\n",
       "      <td>3750978</td>\n",
       "    </tr>\n",
       "    <tr>\n",
       "      <th>Northeast</th>\n",
       "      <td>1841785</td>\n",
       "      <td>1100207</td>\n",
       "      <td>2780744</td>\n",
       "    </tr>\n",
       "    <tr>\n",
       "      <th>South</th>\n",
       "      <td>3405844</td>\n",
       "      <td>2074410</td>\n",
       "      <td>5311631</td>\n",
       "    </tr>\n",
       "    <tr>\n",
       "      <th>West</th>\n",
       "      <td>2662690</td>\n",
       "      <td>1596800</td>\n",
       "      <td>4033423</td>\n",
       "    </tr>\n",
       "  </tbody>\n",
       "</table>\n",
       "</div>"
      ],
      "text/plain": [
       "Loyalty_flag  Loyal customer  New customer  Regular customer\n",
       "Region                                                      \n",
       "Midwest              2373774       1472573           3750978\n",
       "Northeast            1841785       1100207           2780744\n",
       "South                3405844       2074410           5311631\n",
       "West                 2662690       1596800           4033423"
      ]
     },
     "execution_count": 22,
     "metadata": {},
     "output_type": "execute_result"
    }
   ],
   "source": [
    "# Use crosstab to see if there are more loyal customers in different regions\n",
    "cross3 = pd.crosstab(df2['Region'], df2['Loyalty_flag'], dropna=False).sort_index()\n",
    "cross3"
   ]
  },
  {
   "cell_type": "markdown",
   "id": "7eb282f2",
   "metadata": {},
   "source": [
    "The South has the most loyal customers, and the Northeast has the least. "
   ]
  },
  {
   "cell_type": "markdown",
   "id": "364908be",
   "metadata": {},
   "source": [
    "# Create  dataframe to show aggregate values for regions"
   ]
  },
  {
   "cell_type": "code",
   "execution_count": 23,
   "id": "cde8e717",
   "metadata": {
    "scrolled": true
   },
   "outputs": [
    {
     "data": {
      "text/html": [
       "<div>\n",
       "<style scoped>\n",
       "    .dataframe tbody tr th:only-of-type {\n",
       "        vertical-align: middle;\n",
       "    }\n",
       "\n",
       "    .dataframe tbody tr th {\n",
       "        vertical-align: top;\n",
       "    }\n",
       "\n",
       "    .dataframe thead th {\n",
       "        text-align: right;\n",
       "    }\n",
       "</style>\n",
       "<table border=\"1\" class=\"dataframe\">\n",
       "  <thead>\n",
       "    <tr style=\"text-align: right;\">\n",
       "      <th></th>\n",
       "      <th>Prices_sum</th>\n",
       "      <th>User_count</th>\n",
       "      <th>Order_count</th>\n",
       "    </tr>\n",
       "    <tr>\n",
       "      <th>Region</th>\n",
       "      <th></th>\n",
       "      <th></th>\n",
       "      <th></th>\n",
       "    </tr>\n",
       "  </thead>\n",
       "  <tbody>\n",
       "    <tr>\n",
       "      <th>Midwest</th>\n",
       "      <td>96603658.7</td>\n",
       "      <td>48519</td>\n",
       "      <td>754275</td>\n",
       "    </tr>\n",
       "    <tr>\n",
       "      <th>Northeast</th>\n",
       "      <td>66126199.8</td>\n",
       "      <td>36388</td>\n",
       "      <td>567162</td>\n",
       "    </tr>\n",
       "    <tr>\n",
       "      <th>South</th>\n",
       "      <td>131613265.4</td>\n",
       "      <td>68737</td>\n",
       "      <td>1071562</td>\n",
       "    </tr>\n",
       "    <tr>\n",
       "      <th>West</th>\n",
       "      <td>93874398.7</td>\n",
       "      <td>52565</td>\n",
       "      <td>821686</td>\n",
       "    </tr>\n",
       "  </tbody>\n",
       "</table>\n",
       "</div>"
      ],
      "text/plain": [
       "            Prices_sum  User_count  Order_count\n",
       "Region                                         \n",
       "Midwest     96603658.7       48519       754275\n",
       "Northeast   66126199.8       36388       567162\n",
       "South      131613265.4       68737      1071562\n",
       "West        93874398.7       52565       821686"
      ]
     },
     "execution_count": 23,
     "metadata": {},
     "output_type": "execute_result"
    }
   ],
   "source": [
    "# create a new df that summarizes data by region\n",
    "# rename the columns so they are clear\n",
    "df_region = df2[['prices', 'Region', 'Customer_id', 'Order_id']].groupby(['Region']).agg(\n",
    "    {'prices':'sum', 'Customer_id': pd.Series.nunique, 'Order_id': pd.Series.nunique})\n",
    "df_region = df_region.rename(columns={'prices':'Prices_sum', 'Customer_id': 'User_count', 'Order_id': 'Order_count'})\n",
    "df_region"
   ]
  },
  {
   "cell_type": "code",
   "execution_count": 24,
   "id": "5f5d551f",
   "metadata": {},
   "outputs": [],
   "source": [
    "# create calculated columns based on the aggregated data\n",
    "df_region['Price_per_order'] = df_region['Prices_sum']/df_region['Order_count']\n",
    "df_region['Price_per_user'] = df_region['Prices_sum']/df_region['User_count']\n",
    "df_region['Order_per_user'] = df_region['Order_count']/df_region['User_count']"
   ]
  },
  {
   "cell_type": "code",
   "execution_count": 25,
   "id": "de5b9745",
   "metadata": {},
   "outputs": [
    {
     "data": {
      "text/html": [
       "<div>\n",
       "<style scoped>\n",
       "    .dataframe tbody tr th:only-of-type {\n",
       "        vertical-align: middle;\n",
       "    }\n",
       "\n",
       "    .dataframe tbody tr th {\n",
       "        vertical-align: top;\n",
       "    }\n",
       "\n",
       "    .dataframe thead th {\n",
       "        text-align: right;\n",
       "    }\n",
       "</style>\n",
       "<table border=\"1\" class=\"dataframe\">\n",
       "  <thead>\n",
       "    <tr style=\"text-align: right;\">\n",
       "      <th></th>\n",
       "      <th>Prices_sum</th>\n",
       "      <th>User_count</th>\n",
       "      <th>Order_count</th>\n",
       "      <th>Price_per_order</th>\n",
       "      <th>Price_per_user</th>\n",
       "      <th>Order_per_user</th>\n",
       "    </tr>\n",
       "    <tr>\n",
       "      <th>Region</th>\n",
       "      <th></th>\n",
       "      <th></th>\n",
       "      <th></th>\n",
       "      <th></th>\n",
       "      <th></th>\n",
       "      <th></th>\n",
       "    </tr>\n",
       "  </thead>\n",
       "  <tbody>\n",
       "    <tr>\n",
       "      <th>Midwest</th>\n",
       "      <td>96603658.7</td>\n",
       "      <td>48519</td>\n",
       "      <td>754275</td>\n",
       "      <td>128.074852</td>\n",
       "      <td>1991.048016</td>\n",
       "      <td>15.545972</td>\n",
       "    </tr>\n",
       "    <tr>\n",
       "      <th>South</th>\n",
       "      <td>131613265.4</td>\n",
       "      <td>68737</td>\n",
       "      <td>1071562</td>\n",
       "      <td>122.823752</td>\n",
       "      <td>1914.736829</td>\n",
       "      <td>15.589304</td>\n",
       "    </tr>\n",
       "    <tr>\n",
       "      <th>Northeast</th>\n",
       "      <td>66126199.8</td>\n",
       "      <td>36388</td>\n",
       "      <td>567162</td>\n",
       "      <td>116.591379</td>\n",
       "      <td>1817.252935</td>\n",
       "      <td>15.586512</td>\n",
       "    </tr>\n",
       "    <tr>\n",
       "      <th>West</th>\n",
       "      <td>93874398.7</td>\n",
       "      <td>52565</td>\n",
       "      <td>821686</td>\n",
       "      <td>114.246073</td>\n",
       "      <td>1785.872704</td>\n",
       "      <td>15.631808</td>\n",
       "    </tr>\n",
       "  </tbody>\n",
       "</table>\n",
       "</div>"
      ],
      "text/plain": [
       "            Prices_sum  User_count  Order_count  Price_per_order  \\\n",
       "Region                                                             \n",
       "Midwest     96603658.7       48519       754275       128.074852   \n",
       "South      131613265.4       68737      1071562       122.823752   \n",
       "Northeast   66126199.8       36388       567162       116.591379   \n",
       "West        93874398.7       52565       821686       114.246073   \n",
       "\n",
       "           Price_per_user  Order_per_user  \n",
       "Region                                     \n",
       "Midwest       1991.048016       15.545972  \n",
       "South         1914.736829       15.589304  \n",
       "Northeast     1817.252935       15.586512  \n",
       "West          1785.872704       15.631808  "
      ]
     },
     "execution_count": 25,
     "metadata": {},
     "output_type": "execute_result"
    }
   ],
   "source": [
    "df_region.sort_values(by='Price_per_user', ascending=False)"
   ]
  },
  {
   "cell_type": "markdown",
   "id": "d49cc044",
   "metadata": {},
   "source": [
    "# Excluding low frequency customers "
   ]
  },
  {
   "cell_type": "code",
   "execution_count": 26,
   "id": "3a25a9a0",
   "metadata": {},
   "outputs": [],
   "source": [
    "# Create variable for # of orders made by each user.The count of user_id would be the number of orders that user has made \n",
    "\n",
    "df2['Total_orders']=df2.groupby(['Customer_id']).Customer_id.transform('count')"
   ]
  },
  {
   "cell_type": "code",
   "execution_count": 27,
   "id": "eeb9d2f7",
   "metadata": {},
   "outputs": [],
   "source": [
    "# Create exclusion flag by counting the amount of times Customer_id shows up in dataframe, less than 5 is low activity\n",
    "results_2=[]\n",
    "for total in df2['Total_orders']:\n",
    "    if total < 5:\n",
    "        results_2.append('Low Activity')\n",
    "    else:\n",
    "        results_2.append('Regular Activity')"
   ]
  },
  {
   "cell_type": "code",
   "execution_count": 28,
   "id": "4362bcb1",
   "metadata": {},
   "outputs": [],
   "source": [
    "# Include column in dataframe\n",
    "df2['Activity_flag']=results_2"
   ]
  },
  {
   "cell_type": "code",
   "execution_count": 29,
   "id": "654c958c",
   "metadata": {},
   "outputs": [
    {
     "data": {
      "text/plain": [
       "Regular Activity    32401975\n",
       "Low Activity            2884\n",
       "Name: Activity_flag, dtype: int64"
      ]
     },
     "execution_count": 29,
     "metadata": {},
     "output_type": "execute_result"
    }
   ],
   "source": [
    "# Check how many low activity customers there are \n",
    "df2['Activity_flag'].value_counts(dropna=False)"
   ]
  },
  {
   "cell_type": "code",
   "execution_count": 30,
   "id": "be899a8c",
   "metadata": {},
   "outputs": [],
   "source": [
    "# Create subset of low activity customers\n",
    "low_activity_customers= df2[df2['Activity_flag']=='Low Activity']"
   ]
  },
  {
   "cell_type": "code",
   "execution_count": 31,
   "id": "8aeda0f9",
   "metadata": {},
   "outputs": [
    {
     "data": {
      "text/plain": [
       "(2884, 31)"
      ]
     },
     "execution_count": 31,
     "metadata": {},
     "output_type": "execute_result"
    }
   ],
   "source": [
    "# Check subset to make sure successful \n",
    "low_activity_customers.shape"
   ]
  },
  {
   "cell_type": "code",
   "execution_count": 32,
   "id": "ccf3796d",
   "metadata": {},
   "outputs": [],
   "source": [
    "# Export low activity subset\n",
    "low_activity_customers.to_csv(os.path.join(path, 'Data','Prepared Data', 'low_activity_customers.csv'))"
   ]
  },
  {
   "cell_type": "code",
   "execution_count": 33,
   "id": "1bc642b2",
   "metadata": {},
   "outputs": [],
   "source": [
    "# Exclude sample from dataset\n",
    "df2.drop(df2[df2['Activity_flag']=='Low Activity'].index, inplace=True)"
   ]
  },
  {
   "cell_type": "code",
   "execution_count": 34,
   "id": "3a08294e",
   "metadata": {},
   "outputs": [
    {
     "data": {
      "text/plain": [
       "Regular Activity    32401975\n",
       "Name: Activity_flag, dtype: int64"
      ]
     },
     "execution_count": 34,
     "metadata": {},
     "output_type": "execute_result"
    }
   ],
   "source": [
    "# Check to make sure successful \n",
    "df2['Activity_flag'].value_counts()"
   ]
  },
  {
   "cell_type": "code",
   "execution_count": 35,
   "id": "92d620d1",
   "metadata": {
    "scrolled": true
   },
   "outputs": [
    {
     "data": {
      "text/html": [
       "<div>\n",
       "<style scoped>\n",
       "    .dataframe tbody tr th:only-of-type {\n",
       "        vertical-align: middle;\n",
       "    }\n",
       "\n",
       "    .dataframe tbody tr th {\n",
       "        vertical-align: top;\n",
       "    }\n",
       "\n",
       "    .dataframe thead th {\n",
       "        text-align: right;\n",
       "    }\n",
       "</style>\n",
       "<table border=\"1\" class=\"dataframe\">\n",
       "  <thead>\n",
       "    <tr style=\"text-align: right;\">\n",
       "      <th></th>\n",
       "      <th>Order_id</th>\n",
       "      <th>Customer_id</th>\n",
       "      <th>Order_number</th>\n",
       "      <th>Orders_day_of_week</th>\n",
       "      <th>Order_time_of_day</th>\n",
       "      <th>Days_since_prior_order</th>\n",
       "      <th>Product_id</th>\n",
       "      <th>Add_to_cart_order</th>\n",
       "      <th>Reordered</th>\n",
       "      <th>Product_name</th>\n",
       "      <th>department_id</th>\n",
       "      <th>prices</th>\n",
       "      <th>Busiest_day</th>\n",
       "      <th>Busiest_2_days</th>\n",
       "      <th>Busiest_period_of_day</th>\n",
       "      <th>Max_order</th>\n",
       "      <th>Loyalty_flag</th>\n",
       "      <th>Mean_order_price</th>\n",
       "      <th>Spending_flag</th>\n",
       "      <th>Order_frequency</th>\n",
       "      <th>Frequency_flag</th>\n",
       "      <th>Gender</th>\n",
       "      <th>State</th>\n",
       "      <th>Age</th>\n",
       "      <th>Date_joined</th>\n",
       "      <th>#_of_dependants</th>\n",
       "      <th>Marital_status</th>\n",
       "      <th>Income</th>\n",
       "      <th>Region</th>\n",
       "      <th>Total_orders</th>\n",
       "      <th>Activity_flag</th>\n",
       "    </tr>\n",
       "  </thead>\n",
       "  <tbody>\n",
       "    <tr>\n",
       "      <th>0</th>\n",
       "      <td>2539329</td>\n",
       "      <td>1</td>\n",
       "      <td>1</td>\n",
       "      <td>2</td>\n",
       "      <td>8</td>\n",
       "      <td>NaN</td>\n",
       "      <td>196</td>\n",
       "      <td>1</td>\n",
       "      <td>0</td>\n",
       "      <td>Soda</td>\n",
       "      <td>7</td>\n",
       "      <td>9.0</td>\n",
       "      <td>Regularly_busy</td>\n",
       "      <td>Regularly_busy</td>\n",
       "      <td>Fewest Orders</td>\n",
       "      <td>10</td>\n",
       "      <td>New customer</td>\n",
       "      <td>6.367797</td>\n",
       "      <td>Low spender</td>\n",
       "      <td>20.5</td>\n",
       "      <td>Non-frequent customer</td>\n",
       "      <td>Female</td>\n",
       "      <td>Alabama</td>\n",
       "      <td>31</td>\n",
       "      <td>2/17/2019</td>\n",
       "      <td>3</td>\n",
       "      <td>married</td>\n",
       "      <td>40423</td>\n",
       "      <td>South</td>\n",
       "      <td>59</td>\n",
       "      <td>Regular Activity</td>\n",
       "    </tr>\n",
       "    <tr>\n",
       "      <th>1</th>\n",
       "      <td>2398795</td>\n",
       "      <td>1</td>\n",
       "      <td>2</td>\n",
       "      <td>3</td>\n",
       "      <td>7</td>\n",
       "      <td>15.0</td>\n",
       "      <td>196</td>\n",
       "      <td>1</td>\n",
       "      <td>1</td>\n",
       "      <td>Soda</td>\n",
       "      <td>7</td>\n",
       "      <td>9.0</td>\n",
       "      <td>Regularly_busy</td>\n",
       "      <td>Least_busy_days</td>\n",
       "      <td>Fewest Orders</td>\n",
       "      <td>10</td>\n",
       "      <td>New customer</td>\n",
       "      <td>6.367797</td>\n",
       "      <td>Low spender</td>\n",
       "      <td>20.5</td>\n",
       "      <td>Non-frequent customer</td>\n",
       "      <td>Female</td>\n",
       "      <td>Alabama</td>\n",
       "      <td>31</td>\n",
       "      <td>2/17/2019</td>\n",
       "      <td>3</td>\n",
       "      <td>married</td>\n",
       "      <td>40423</td>\n",
       "      <td>South</td>\n",
       "      <td>59</td>\n",
       "      <td>Regular Activity</td>\n",
       "    </tr>\n",
       "    <tr>\n",
       "      <th>2</th>\n",
       "      <td>473747</td>\n",
       "      <td>1</td>\n",
       "      <td>3</td>\n",
       "      <td>3</td>\n",
       "      <td>12</td>\n",
       "      <td>21.0</td>\n",
       "      <td>196</td>\n",
       "      <td>1</td>\n",
       "      <td>1</td>\n",
       "      <td>Soda</td>\n",
       "      <td>7</td>\n",
       "      <td>9.0</td>\n",
       "      <td>Regularly_busy</td>\n",
       "      <td>Least_busy_days</td>\n",
       "      <td>Most Orders</td>\n",
       "      <td>10</td>\n",
       "      <td>New customer</td>\n",
       "      <td>6.367797</td>\n",
       "      <td>Low spender</td>\n",
       "      <td>20.5</td>\n",
       "      <td>Non-frequent customer</td>\n",
       "      <td>Female</td>\n",
       "      <td>Alabama</td>\n",
       "      <td>31</td>\n",
       "      <td>2/17/2019</td>\n",
       "      <td>3</td>\n",
       "      <td>married</td>\n",
       "      <td>40423</td>\n",
       "      <td>South</td>\n",
       "      <td>59</td>\n",
       "      <td>Regular Activity</td>\n",
       "    </tr>\n",
       "    <tr>\n",
       "      <th>3</th>\n",
       "      <td>2254736</td>\n",
       "      <td>1</td>\n",
       "      <td>4</td>\n",
       "      <td>4</td>\n",
       "      <td>7</td>\n",
       "      <td>29.0</td>\n",
       "      <td>196</td>\n",
       "      <td>1</td>\n",
       "      <td>1</td>\n",
       "      <td>Soda</td>\n",
       "      <td>7</td>\n",
       "      <td>9.0</td>\n",
       "      <td>Least_busy</td>\n",
       "      <td>Least_busy_days</td>\n",
       "      <td>Fewest Orders</td>\n",
       "      <td>10</td>\n",
       "      <td>New customer</td>\n",
       "      <td>6.367797</td>\n",
       "      <td>Low spender</td>\n",
       "      <td>20.5</td>\n",
       "      <td>Non-frequent customer</td>\n",
       "      <td>Female</td>\n",
       "      <td>Alabama</td>\n",
       "      <td>31</td>\n",
       "      <td>2/17/2019</td>\n",
       "      <td>3</td>\n",
       "      <td>married</td>\n",
       "      <td>40423</td>\n",
       "      <td>South</td>\n",
       "      <td>59</td>\n",
       "      <td>Regular Activity</td>\n",
       "    </tr>\n",
       "    <tr>\n",
       "      <th>4</th>\n",
       "      <td>431534</td>\n",
       "      <td>1</td>\n",
       "      <td>5</td>\n",
       "      <td>4</td>\n",
       "      <td>15</td>\n",
       "      <td>28.0</td>\n",
       "      <td>196</td>\n",
       "      <td>1</td>\n",
       "      <td>1</td>\n",
       "      <td>Soda</td>\n",
       "      <td>7</td>\n",
       "      <td>9.0</td>\n",
       "      <td>Least_busy</td>\n",
       "      <td>Least_busy_days</td>\n",
       "      <td>Most Orders</td>\n",
       "      <td>10</td>\n",
       "      <td>New customer</td>\n",
       "      <td>6.367797</td>\n",
       "      <td>Low spender</td>\n",
       "      <td>20.5</td>\n",
       "      <td>Non-frequent customer</td>\n",
       "      <td>Female</td>\n",
       "      <td>Alabama</td>\n",
       "      <td>31</td>\n",
       "      <td>2/17/2019</td>\n",
       "      <td>3</td>\n",
       "      <td>married</td>\n",
       "      <td>40423</td>\n",
       "      <td>South</td>\n",
       "      <td>59</td>\n",
       "      <td>Regular Activity</td>\n",
       "    </tr>\n",
       "  </tbody>\n",
       "</table>\n",
       "</div>"
      ],
      "text/plain": [
       "   Order_id Customer_id  Order_number  Orders_day_of_week  Order_time_of_day  \\\n",
       "0   2539329           1             1                   2                  8   \n",
       "1   2398795           1             2                   3                  7   \n",
       "2    473747           1             3                   3                 12   \n",
       "3   2254736           1             4                   4                  7   \n",
       "4    431534           1             5                   4                 15   \n",
       "\n",
       "   Days_since_prior_order  Product_id  Add_to_cart_order  Reordered  \\\n",
       "0                     NaN         196                  1          0   \n",
       "1                    15.0         196                  1          1   \n",
       "2                    21.0         196                  1          1   \n",
       "3                    29.0         196                  1          1   \n",
       "4                    28.0         196                  1          1   \n",
       "\n",
       "  Product_name  department_id  prices     Busiest_day   Busiest_2_days  \\\n",
       "0         Soda              7     9.0  Regularly_busy   Regularly_busy   \n",
       "1         Soda              7     9.0  Regularly_busy  Least_busy_days   \n",
       "2         Soda              7     9.0  Regularly_busy  Least_busy_days   \n",
       "3         Soda              7     9.0      Least_busy  Least_busy_days   \n",
       "4         Soda              7     9.0      Least_busy  Least_busy_days   \n",
       "\n",
       "  Busiest_period_of_day  Max_order  Loyalty_flag  Mean_order_price  \\\n",
       "0         Fewest Orders         10  New customer          6.367797   \n",
       "1         Fewest Orders         10  New customer          6.367797   \n",
       "2           Most Orders         10  New customer          6.367797   \n",
       "3         Fewest Orders         10  New customer          6.367797   \n",
       "4           Most Orders         10  New customer          6.367797   \n",
       "\n",
       "  Spending_flag  Order_frequency         Frequency_flag  Gender    State  Age  \\\n",
       "0   Low spender             20.5  Non-frequent customer  Female  Alabama   31   \n",
       "1   Low spender             20.5  Non-frequent customer  Female  Alabama   31   \n",
       "2   Low spender             20.5  Non-frequent customer  Female  Alabama   31   \n",
       "3   Low spender             20.5  Non-frequent customer  Female  Alabama   31   \n",
       "4   Low spender             20.5  Non-frequent customer  Female  Alabama   31   \n",
       "\n",
       "  Date_joined  #_of_dependants Marital_status  Income Region  Total_orders  \\\n",
       "0   2/17/2019                3        married   40423  South            59   \n",
       "1   2/17/2019                3        married   40423  South            59   \n",
       "2   2/17/2019                3        married   40423  South            59   \n",
       "3   2/17/2019                3        married   40423  South            59   \n",
       "4   2/17/2019                3        married   40423  South            59   \n",
       "\n",
       "      Activity_flag  \n",
       "0  Regular Activity  \n",
       "1  Regular Activity  \n",
       "2  Regular Activity  \n",
       "3  Regular Activity  \n",
       "4  Regular Activity  "
      ]
     },
     "execution_count": 35,
     "metadata": {},
     "output_type": "execute_result"
    }
   ],
   "source": [
    "# Viewing dataset\n",
    "pd.set_option('display.max_columns', None)\n",
    "df2.head()"
   ]
  },
  {
   "cell_type": "code",
   "execution_count": 36,
   "id": "eb78335b",
   "metadata": {},
   "outputs": [],
   "source": [
    "# Create subset of regular activity customers\n",
    "df3= df2[df2['Activity_flag']=='Regular Activity']"
   ]
  },
  {
   "cell_type": "code",
   "execution_count": 2,
   "id": "5f74a8fa",
   "metadata": {},
   "outputs": [],
   "source": [
    "# Export regular activity subset\n",
    "df3.to_pickle(os.path.join(path, 'Data','Prepared Data', 'reg_activity_customers.pkl'))"
   ]
  },
  {
   "cell_type": "code",
   "execution_count": null,
   "id": "4c4c2283",
   "metadata": {},
   "outputs": [],
   "source": []
  }
 ],
 "metadata": {
  "kernelspec": {
   "display_name": "Python 3 (ipykernel)",
   "language": "python",
   "name": "python3"
  },
  "language_info": {
   "codemirror_mode": {
    "name": "ipython",
    "version": 3
   },
   "file_extension": ".py",
   "mimetype": "text/x-python",
   "name": "python",
   "nbconvert_exporter": "python",
   "pygments_lexer": "ipython3",
   "version": "3.9.12"
  }
 },
 "nbformat": 4,
 "nbformat_minor": 5
}
