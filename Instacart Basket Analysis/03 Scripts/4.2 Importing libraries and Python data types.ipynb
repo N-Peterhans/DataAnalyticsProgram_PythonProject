{
 "cells": [
  {
   "cell_type": "markdown",
   "id": "39cc4b06",
   "metadata": {},
   "source": [
    "#01. Importing libraries \n",
    "import pandas as pd\n",
    "import numpy as np\n",
    "import os"
   ]
  },
  {
   "cell_type": "markdown",
   "id": "94b356eb",
   "metadata": {},
   "source": [
    "#02. Python data types"
   ]
  },
  {
   "cell_type": "code",
   "execution_count": 1,
   "id": "1629a2b0",
   "metadata": {},
   "outputs": [],
   "source": [
    "x = 50"
   ]
  },
  {
   "cell_type": "code",
   "execution_count": 2,
   "id": "d80094ad",
   "metadata": {},
   "outputs": [],
   "source": [
    "y = 100"
   ]
  },
  {
   "cell_type": "code",
   "execution_count": 3,
   "id": "8ea9b066",
   "metadata": {},
   "outputs": [],
   "source": [
    "z = 25"
   ]
  },
  {
   "cell_type": "code",
   "execution_count": 4,
   "id": "d62d33cd",
   "metadata": {},
   "outputs": [
    {
     "data": {
      "text/plain": [
       "100"
      ]
     },
     "execution_count": 4,
     "metadata": {},
     "output_type": "execute_result"
    }
   ],
   "source": [
    "x * 2"
   ]
  },
  {
   "cell_type": "code",
   "execution_count": 5,
   "id": "4665bd6d",
   "metadata": {},
   "outputs": [
    {
     "data": {
      "text/plain": [
       "100"
      ]
     },
     "execution_count": 5,
     "metadata": {},
     "output_type": "execute_result"
    }
   ],
   "source": [
    "x + x"
   ]
  },
  {
   "cell_type": "code",
   "execution_count": 6,
   "id": "4d6c1213",
   "metadata": {},
   "outputs": [
    {
     "data": {
      "text/plain": [
       "100"
      ]
     },
     "execution_count": 6,
     "metadata": {},
     "output_type": "execute_result"
    }
   ],
   "source": [
    "y * 2 - x - z - z"
   ]
  },
  {
   "cell_type": "code",
   "execution_count": 7,
   "id": "b6ef9604",
   "metadata": {},
   "outputs": [],
   "source": [
    "a = 4.4234"
   ]
  },
  {
   "cell_type": "code",
   "execution_count": 8,
   "id": "a2f161a8",
   "metadata": {},
   "outputs": [
    {
     "data": {
      "text/plain": [
       "float"
      ]
     },
     "execution_count": 8,
     "metadata": {},
     "output_type": "execute_result"
    }
   ],
   "source": [
    "type(a)"
   ]
  },
  {
   "cell_type": "code",
   "execution_count": 9,
   "id": "3176b280",
   "metadata": {},
   "outputs": [],
   "source": [
    "b = 43.23"
   ]
  },
  {
   "cell_type": "code",
   "execution_count": 10,
   "id": "3ddacd29",
   "metadata": {},
   "outputs": [
    {
     "data": {
      "text/plain": [
       "float"
      ]
     },
     "execution_count": 10,
     "metadata": {},
     "output_type": "execute_result"
    }
   ],
   "source": [
    "type(b)"
   ]
  },
  {
   "cell_type": "code",
   "execution_count": 11,
   "id": "c836d342",
   "metadata": {},
   "outputs": [
    {
     "data": {
      "text/plain": [
       "9.773025274675588"
      ]
     },
     "execution_count": 11,
     "metadata": {},
     "output_type": "execute_result"
    }
   ],
   "source": [
    "b / a"
   ]
  },
  {
   "cell_type": "code",
   "execution_count": 12,
   "id": "5768ff29",
   "metadata": {},
   "outputs": [],
   "source": [
    "c = 'My name '"
   ]
  },
  {
   "cell_type": "code",
   "execution_count": 13,
   "id": "9c63e9e6",
   "metadata": {},
   "outputs": [],
   "source": [
    "d = 'is Niels'"
   ]
  },
  {
   "cell_type": "code",
   "execution_count": 14,
   "id": "0bbdd7ee",
   "metadata": {},
   "outputs": [
    {
     "data": {
      "text/plain": [
       "'My name is Niels'"
      ]
     },
     "execution_count": 14,
     "metadata": {},
     "output_type": "execute_result"
    }
   ],
   "source": [
    "c + d"
   ]
  },
  {
   "cell_type": "code",
   "execution_count": 15,
   "id": "ea8c408a",
   "metadata": {},
   "outputs": [],
   "source": [
    "e = 'Hello everyone, my name is Niels. '"
   ]
  },
  {
   "cell_type": "code",
   "execution_count": 16,
   "id": "2b014867",
   "metadata": {},
   "outputs": [],
   "source": [
    "f = 'I am happy to be here with you today'"
   ]
  },
  {
   "cell_type": "code",
   "execution_count": 17,
   "id": "e72fdc48",
   "metadata": {},
   "outputs": [
    {
     "data": {
      "text/plain": [
       "'Hello everyone, my name is Niels. I am happy to be here with you today'"
      ]
     },
     "execution_count": 17,
     "metadata": {},
     "output_type": "execute_result"
    }
   ],
   "source": [
    "e + f"
   ]
  }
 ],
 "metadata": {
  "kernelspec": {
   "display_name": "Python 3 (ipykernel)",
   "language": "python",
   "name": "python3"
  },
  "language_info": {
   "codemirror_mode": {
    "name": "ipython",
    "version": 3
   },
   "file_extension": ".py",
   "mimetype": "text/x-python",
   "name": "python",
   "nbconvert_exporter": "python",
   "pygments_lexer": "ipython3",
   "version": "3.9.12"
  }
 },
 "nbformat": 4,
 "nbformat_minor": 5
}
